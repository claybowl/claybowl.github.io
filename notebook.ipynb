{
 "cells": [
  {
   "attachments": {},
   "cell_type": "markdown",
   "metadata": {},
   "source": [
    "# thedonjon.tech Notes"
   ]
  },
  {
   "cell_type": "markdown",
   "metadata": {},
   "source": []
  },
  {
   "attachments": {},
   "cell_type": "markdown",
   "metadata": {},
   "source": [
    "https://i.ibb.co/QfXK241/DALL-E-2023-03-27-17-18-10-Please-design-me-an-image-that-can-be-used-for-a-modern-photo-of-machine.png\n",
    "https://i.ibb.co/rmknpkv/DALL-E-2023-03-27-17-18-16-Please-design-me-an-image-that-can-be-used-for-a-modern-photo-of-machine.png\n",
    "https://i.ibb.co/vPjr2qP/DALL-E-2023-03-27-17-18-22-Please-design-me-an-image-that-can-be-used-for-a-modern-photo-of-machine.png\n",
    "https://i.ibb.co/ncKJMXz/DALL-E-2023-03-27-17-18-28-Please-design-me-an-image-that-can-be-used-for-a-modern-photo-of-machine.png\n",
    "\n",
    "https://i.ibb.co/Qvr5t4S/deep-hexagon1.png\n",
    "https://i.ibb.co/zrZZ04T/deep-hexagon2.png\n",
    "https://i.ibb.co/TgyrqW0/deep-hexagon3.png\n",
    "https://i.ibb.co/VQ05tSH/deep-neural-network-midjourney.png\n",
    "https://i.ibb.co/2dfRf0X/deep-neural-network-midjourney1.png\n",
    "https://i.ibb.co/F6CpvKr/deep-neural-network-midjourney2.png\n",
    "\n",
    "## Wanderweird Images:\n",
    "- https://i.ibb.co/hRZDNCZ/IMG-1521.jpg\n",
    "- https://i.ibb.co/PC3vkvH/wanderweird-remember.jpg\n",
    "- https://i.ibb.co/7CFnZNC/wanderweird-everything-that-you-know.jpg\n",
    "- https://i.ibb.co/cbq8sYd/wanderweird-find-yourself.jpg\n",
    "- https://i.ibb.co/m8R9SXg/wanderweird-remember-scaled.jpg"
   ]
  },
  {
   "attachments": {},
   "cell_type": "markdown",
   "metadata": {},
   "source": [
    "# Color Palette\n",
    "#F72586\n",
    "#7109B6\n",
    "#3A0CA3\n",
    "#4460EF\n",
    "#4BC9F1\n",
    "#45E3CD\n",
    "\n",
    "\n",
    "### Dual complimentary:\n",
    "1. #060213\n",
    "2. #0F1302"
   ]
  },
  {
   "cell_type": "markdown",
   "metadata": {},
   "source": []
  },
  {
   "attachments": {},
   "cell_type": "markdown",
   "metadata": {},
   "source": [
    "## Tarot AI Images:\n",
    "\n",
    "https://ibb.co/tKBkbzj\n",
    "https://ibb.co/jV2WPf0\n",
    "https://ibb.co/Xs5b6Pm\n",
    "https://ibb.co/5xH3Ygf\n",
    "https://ibb.co/5L4JyVw\n",
    "https://ibb.co/8sK23kd\n",
    "\n",
    "<a href=\"https://ibb.co/tKBkbzj\"><img src=\"https://i.ibb.co/LRSbCrj/prince-2.png\" alt=\"prince-2\" border=\"0\"></a>\n",
    "<a href=\"https://ibb.co/jV2WPf0\"><img src=\"https://i.ibb.co/YDMyFQn/Clay-the-Grey-The-Hierophant.png\" alt=\"Clay-the-Grey-The-Hierophant\" border=\"0\"></a>\n",
    "<a href=\"https://ibb.co/Xs5b6Pm\"><img src=\"https://i.ibb.co/MV1sKHq/Clay-the-Grey-The-Hierophant2.png\" alt=\"Clay-the-Grey-The-Hierophant2\" border=\"0\"></a>\n",
    "<a href=\"https://ibb.co/5xH3Ygf\"><img src=\"https://i.ibb.co/Hp8yNfk/hanged-man1.png\" alt=\"hanged-man1\" border=\"0\"></a>\n",
    "<a href=\"https://ibb.co/5L4JyVw\"><img src=\"https://i.ibb.co/w4g2X1j/hanged-man2.png\" alt=\"hanged-man2\" border=\"0\"></a>\n",
    "<a href=\"https://ibb.co/8sK23kd\"><img src=\"https://i.ibb.co/T2vRXyb/prince-1.png\" alt=\"prince-1\" border=\"0\"></a>"
   ]
  },
  {
   "attachments": {},
   "cell_type": "markdown",
   "metadata": {},
   "source": [
    "<a href=\"https://ibb.co/pdHYbSx\"><img src=\"https://i.ibb.co/Xtncjqb/ai-chat-assistant.png\" alt=\"ai-chat-assistant\" border=\"0\"></a>\n",
    "<a href=\"https://ibb.co/dcXss3N\"><img src=\"https://i.ibb.co/H2RLLMc/the-world.png\" alt=\"the-world\" border=\"0\"></a>\n",
    "<a href=\"https://ibb.co/9h9GdGt\"><img src=\"https://i.ibb.co/KDjm8mw/wheel-of-fortune-2.png\" alt=\"wheel-of-fortune-2\" border=\"0\"></a>\n",
    "<a href=\"https://ibb.co/DWL1vR8\"><img src=\"https://i.ibb.co/V93LzqQ/wheel-of-fortune.png\" alt=\"wheel-of-fortune\" border=\"0\"></a>\n",
    "<a href=\"https://ibb.co/1Tsfdty\"><img src=\"https://i.ibb.co/jDVvWP0/the-fool-2.png\" alt=\"the-fool-2\" border=\"0\"></a>\n",
    "<a href=\"https://ibb.co/tM6MgVB\"><img src=\"https://i.ibb.co/PZyZKqx/the-fool.png\" alt=\"the-fool\" border=\"0\"></a>\n",
    "<a href=\"https://ibb.co/g9kmpsJ\"><img src=\"https://i.ibb.co/3dg4qtc/the-devil-3.png\" alt=\"the-devil-3\" border=\"0\"></a>\n",
    "<a href=\"https://ibb.co/NKtR08m\"><img src=\"https://i.ibb.co/0rm50gF/the-devil-2.png\" alt=\"the-devil-2\" border=\"0\"></a>\n",
    "<a href=\"https://ibb.co/7r6rb5v\"><img src=\"https://i.ibb.co/r515vSk/the-devil.png\" alt=\"the-devil\" border=\"0\"></a>\n",
    "<a href=\"https://ibb.co/y401G21\"><img src=\"https://i.ibb.co/TWcSpyS/death-2.png\" alt=\"death-2\" border=\"0\"></a>\n",
    "<a href=\"https://ibb.co/26gD8tQ\"><img src=\"https://i.ibb.co/z5Gy8RY/death.png\" alt=\"death\" border=\"0\"></a>"
   ]
  },
  {
   "cell_type": "code",
   "execution_count": null,
   "metadata": {
    "vscode": {
     "languageId": "plaintext"
    }
   },
   "outputs": [],
   "source": [
    "\n",
    "      <div id=\"magicform-root\" style=\"z-index: 9999;position: relative;\"></div> \n",
    "      <script>\n",
    "        (function (w, d, s, o, f, js, fjs) {\n",
    "            w[\"Simple-Widget\"] = o; w[o] = w[o] || function () { (w[o].q = w[o].q || []).push(arguments) };\n",
    "            js = d.createElement(s), fjs = d.getElementsByTagName(s)[0];\n",
    "            js.id = o; js.src = f; js.async = 1; fjs.parentNode.insertBefore(js, fjs);\n",
    "        }(window, document, \"script\", \"w1\", 'https://magicform-widget-assets.s3.us-west-2.amazonaws.com/widget.js'));\n",
    "        w1(\"init\", \n",
    "{\"popUpTimer\":3000,\"imageUrl\":null,\"widgetType\":\"bubble\",\"chatHeight\":630,\"chatWidth\":370,\"placeholder\":\"What's on your mind?\",\"title\":\"Clayton Christian's AI Personal Assistan\",\"subtitle\":\"To facilitate talks with Recruiters\",\"stackId\":\"stack_2851e54a-7944-47f4-8686-1397fa503490\",\"userId\":\"a6d0bcc8-e93b-4c90-ae6f-6e9146b8908f\",\"colors\":{\"main\":\"#2984af\",\"userMessageBubble\":\"#2984af\"}}\n",
    ");\n",
    "      </script>\n",
    "    "
   ]
  }
 ],
 "metadata": {
  "language_info": {
   "name": "python"
  },
  "orig_nbformat": 4
 },
 "nbformat": 4,
 "nbformat_minor": 2
}
