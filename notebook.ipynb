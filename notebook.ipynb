{
 "cells": [
  {
   "attachments": {},
   "cell_type": "markdown",
   "metadata": {},
   "source": [
    "# thedonjon.tech Notes"
   ]
  },
  {
   "cell_type": "markdown",
   "metadata": {},
   "source": []
  },
  {
   "attachments": {},
   "cell_type": "markdown",
   "metadata": {},
   "source": [
    "https://i.ibb.co/QfXK241/DALL-E-2023-03-27-17-18-10-Please-design-me-an-image-that-can-be-used-for-a-modern-photo-of-machine.png\n",
    "https://i.ibb.co/rmknpkv/DALL-E-2023-03-27-17-18-16-Please-design-me-an-image-that-can-be-used-for-a-modern-photo-of-machine.png\n",
    "https://i.ibb.co/vPjr2qP/DALL-E-2023-03-27-17-18-22-Please-design-me-an-image-that-can-be-used-for-a-modern-photo-of-machine.png\n",
    "https://i.ibb.co/ncKJMXz/DALL-E-2023-03-27-17-18-28-Please-design-me-an-image-that-can-be-used-for-a-modern-photo-of-machine.png\n",
    "\n",
    "https://i.ibb.co/Qvr5t4S/deep-hexagon1.png\n",
    "https://i.ibb.co/zrZZ04T/deep-hexagon2.png\n",
    "https://i.ibb.co/TgyrqW0/deep-hexagon3.png\n",
    "https://i.ibb.co/VQ05tSH/deep-neural-network-midjourney.png\n",
    "https://i.ibb.co/2dfRf0X/deep-neural-network-midjourney1.png\n",
    "https://i.ibb.co/F6CpvKr/deep-neural-network-midjourney2.png\n",
    "\n",
    "## Wanderweird Images:\n",
    "- https://i.ibb.co/hRZDNCZ/IMG-1521.jpg\n",
    "- https://i.ibb.co/PC3vkvH/wanderweird-remember.jpg\n",
    "- https://i.ibb.co/7CFnZNC/wanderweird-everything-that-you-know.jpg\n",
    "- https://i.ibb.co/cbq8sYd/wanderweird-find-yourself.jpg\n",
    "- https://i.ibb.co/m8R9SXg/wanderweird-remember-scaled.jpg"
   ]
  },
  {
   "attachments": {},
   "cell_type": "markdown",
   "metadata": {},
   "source": [
    "# Color Palette\n",
    "#F72586\n",
    "#7109B6\n",
    "#3A0CA3\n",
    "#4460EF\n",
    "#4BC9F1\n",
    "#45E3CD\n",
    "\n",
    "\n",
    "### Dual complimentary:\n",
    "1. #060213\n",
    "2. #0F1302"
   ]
  },
  {
   "cell_type": "markdown",
   "metadata": {},
   "source": []
  }
 ],
 "metadata": {
  "language_info": {
   "name": "python"
  },
  "orig_nbformat": 4
 },
 "nbformat": 4,
 "nbformat_minor": 2
}
