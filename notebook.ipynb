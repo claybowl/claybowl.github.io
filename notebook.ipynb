{
 "cells": [
  {
   "attachments": {},
   "cell_type": "markdown",
   "metadata": {},
   "source": [
    "# thedonjon.tech Notes"
   ]
  },
  {
   "attachments": {},
   "cell_type": "markdown",
   "metadata": {},
   "source": [
    "https://i.ibb.co/QfXK241/DALL-E-2023-03-27-17-18-10-Please-design-me-an-image-that-can-be-used-for-a-modern-photo-of-machine.png\n",
    "https://i.ibb.co/rmknpkv/DALL-E-2023-03-27-17-18-16-Please-design-me-an-image-that-can-be-used-for-a-modern-photo-of-machine.png\n",
    "https://i.ibb.co/vPjr2qP/DALL-E-2023-03-27-17-18-22-Please-design-me-an-image-that-can-be-used-for-a-modern-photo-of-machine.png\n",
    "https://i.ibb.co/ncKJMXz/DALL-E-2023-03-27-17-18-28-Please-design-me-an-image-that-can-be-used-for-a-modern-photo-of-machine.png\n",
    "\n",
    "https://i.ibb.co/Qvr5t4S/deep-hexagon1.png\n",
    "https://i.ibb.co/zrZZ04T/deep-hexagon2.png\n",
    "https://i.ibb.co/TgyrqW0/deep-hexagon3.png\n",
    "https://i.ibb.co/VQ05tSH/deep-neural-network-midjourney.png\n",
    "https://i.ibb.co/2dfRf0X/deep-neural-network-midjourney1.png\n",
    "https://i.ibb.co/F6CpvKr/deep-neural-network-midjourney2.png"
   ]
  }
 ],
 "metadata": {
  "language_info": {
   "name": "python"
  },
  "orig_nbformat": 4
 },
 "nbformat": 4,
 "nbformat_minor": 2
}
